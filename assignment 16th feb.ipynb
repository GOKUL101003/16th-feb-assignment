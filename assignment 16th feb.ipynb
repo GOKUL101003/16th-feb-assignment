{
 "cells": [
  {
   "cell_type": "code",
   "execution_count": null,
   "id": "4bb68b29-4d4d-4c46-924e-3be92a9b8320",
   "metadata": {},
   "outputs": [],
   "source": [
    "'''\n",
    "Q1. What is a database? Differentiate between SQL and NoSQL databases.\n",
    "'''"
   ]
  },
  {
   "cell_type": "code",
   "execution_count": null,
   "id": "49da992f-1846-4ded-ae9e-03b49ed8136d",
   "metadata": {},
   "outputs": [],
   "source": [
    "'''\n",
    "A database is a structured collection of data that is organized and stored in a computer system. \n",
    "It is designed to allow for efficient storage, retrieval, and manipulation of data. \n",
    "SQL and NoSQL are two types of databases that differ in their structure, query language, and purpose.\n",
    "\n",
    "SQL databases, also known as relational databases, are based on the relational model of data. \n",
    "They use SQL (Structured Query Language) to manage and manipulate data.\n",
    "SQL databases are organized into tables with rows and columns.\n",
    "ex: MySQL,Oracle, and Microsoft SQL Server.\n",
    "\n",
    "NoSQL databases, on the other hand, do not use a structured schema like SQL databases. \n",
    "They are designed to store and manage unstructured data such as documents, images, and videos.\n",
    "ex: MongoDB,Cassandra etc.\n",
    "'''"
   ]
  },
  {
   "cell_type": "code",
   "execution_count": null,
   "id": "966c02a6-e7f5-473a-a54f-0643b7bc406a",
   "metadata": {},
   "outputs": [],
   "source": [
    "'''\n",
    "Q2. What is DDL? Explain why CREATE, DROP, ALTER, and TRUNCATE are used with an example.\n",
    "'''"
   ]
  },
  {
   "cell_type": "code",
   "execution_count": null,
   "id": "a6282e13-f1d4-4477-be54-f09602b183f9",
   "metadata": {},
   "outputs": [],
   "source": [
    "'''\n",
    "DDL stands for Data Definition Language, which is a set of SQL commands used to define and manage the structure of a database.\n",
    "1.CREATE: The CREATE statement is used to create new database objects such as tables, views, indexes, and sequences\n",
    "ex: CREATE TABLE customers (\n",
    "    customer_id INT PRIMARY KEY,\n",
    "    name VARCHAR(50),\n",
    "    email VARCHAR(50)\n",
    ");\n",
    "2. DROP: The DROP statement is used to delete existing database objects. \n",
    "ex:DROP TABLE customers;\n",
    "3. ALTER: The ALTER statement is used to modify the structure of existing database objects. \n",
    "ex: ALTER TABLE customers\n",
    "   ADD COLUMN phone VARCHAR(20);\n",
    "4. TRUNCATE: The TRUNCATE statement is used to remove all the data from a table, but the table structure remains intact\n",
    "ex: TRUNCATE TABLE customers;\n",
    "'''\n"
   ]
  },
  {
   "cell_type": "code",
   "execution_count": null,
   "id": "11a3d346-3e73-49bf-a320-93c435d5452f",
   "metadata": {},
   "outputs": [],
   "source": [
    "'''\n",
    "Q3. What is DML? Explain INSERT, UPDATE, and DELETE with an example.\n",
    "'''\n"
   ]
  },
  {
   "cell_type": "code",
   "execution_count": null,
   "id": "138a131c-b190-4123-b95e-5d2d440ff0bf",
   "metadata": {},
   "outputs": [],
   "source": [
    "'''\n",
    "DML stands for Data Manipulation Language, which is a set of SQL commands used to manipulate the data within a database. \n",
    "1. INSERT: The INSERT statement is used to add new data to a table.\n",
    "ex: INSERT INTO customers (name, email)\n",
    "    VALUES ('John Doe', 'john.doe@example.com');\n",
    "2. UPDATE: The UPDATE statement is used to modify existing data in a table.\n",
    "ex: UPDATE customers\n",
    "    SET email = 'jane.doe@example.com'\n",
    "   WHERE customer_id = 1;\n",
    "3. DELETE: The DELETE statement is used to remove data from a table. \n",
    "ex: DELETE FROM customers\n",
    "    WHERE customer_id = 2;\n",
    "'''"
   ]
  },
  {
   "cell_type": "code",
   "execution_count": null,
   "id": "a0ec2775-7133-4f0f-b9e4-d88c866ee0f3",
   "metadata": {},
   "outputs": [],
   "source": [
    "'''\n",
    "Q4. What is DQL? Explain SELECT with an example.\n",
    "'''"
   ]
  },
  {
   "cell_type": "code",
   "execution_count": null,
   "id": "9e8f577b-0093-46e8-a109-95ea4f8db4f9",
   "metadata": {},
   "outputs": [],
   "source": [
    "'''\n",
    "DQL stands for Data Query Language, which is a set of SQL commands used to retrieve data from a database.\n",
    "DQL statements are used to retrieve and display data from tables.\n",
    "ex: SELECT * FROM customers;\n",
    "'''"
   ]
  },
  {
   "cell_type": "code",
   "execution_count": null,
   "id": "715e3946-e121-4f0a-af9f-e611a23e29eb",
   "metadata": {},
   "outputs": [],
   "source": [
    "'''\n",
    "Q5. Explain Primary Key and Foreign Key.\n",
    "'''"
   ]
  },
  {
   "cell_type": "code",
   "execution_count": null,
   "id": "df3eb4b2-c71d-46c9-b9ac-57de628bbce8",
   "metadata": {},
   "outputs": [],
   "source": [
    "'''\n",
    "A Primary Key is a column or set of columns in a table that uniquely identifies each row of data in that table. \n",
    "A Foreign Key is a column or set of columns in a table that refers to the Primary Key of another table\n",
    "'''"
   ]
  },
  {
   "cell_type": "code",
   "execution_count": null,
   "id": "0e60d509-5b16-49d6-a051-264b2b4a50dc",
   "metadata": {},
   "outputs": [],
   "source": [
    "'''\n",
    "Q6. Write a python code to connect MySQL to python. Explain the cursor() and execute() method.\n",
    "'''"
   ]
  },
  {
   "cell_type": "code",
   "execution_count": null,
   "id": "d73a8019-1583-49a7-8228-fec2630b120d",
   "metadata": {},
   "outputs": [],
   "source": [
    "'''\n",
    "import mysql.connector\n",
    "mydb = mysql.connector.connect(\n",
    "  host=\"localhost\",\n",
    "  user=\"abc\",\n",
    "  password=\"password\"\n",
    ")\n",
    "mycursor = mydb.cursor()\n",
    "mycursor.execute(\"CREATE DATABASE if not exists test1\")\n",
    "mycursor.execute(\"CREATE TABLE if not exists  test1.test_table (c1 INT , c2 VARCHAR(50),c3 INT , c4 FLOAT , c5 VARCHAR(40))\")\n",
    "mydb.close()\n",
    "The cursor() method creates a cursor object that is used to execute SQL queries and fetch results. \n",
    "The execute() method is used to execute an SQL query, and it takes the query string as a parameter.\n",
    "'''"
   ]
  },
  {
   "cell_type": "code",
   "execution_count": null,
   "id": "6259d010-f180-43b6-b55b-9b58cbfcc831",
   "metadata": {},
   "outputs": [],
   "source": [
    "'''\n",
    "Q7. Give the order of execution of SQL clauses in an SQL query.\n",
    "'''\n"
   ]
  },
  {
   "cell_type": "code",
   "execution_count": null,
   "id": "dc428364-317b-49e6-b392-09ba9f091534",
   "metadata": {},
   "outputs": [],
   "source": [
    "'''\n",
    "FROM clause: specifies the table(s) from which to retrieve data.\n",
    "WHERE clause: filters the rows based on a specified condition.\n",
    "GROUP BY clause: groups the rows based on one or more columns.\n",
    "HAVING clause: filters the groups based on a specified condition.\n",
    "SELECT clause: specifies the columns to retrieve from the table(s).\n",
    "ORDER BY clause: sorts the results based on one or more columns.\n",
    "LIMIT clause: limits the number of rows returned by the query.\n",
    "'''"
   ]
  },
  {
   "cell_type": "code",
   "execution_count": null,
   "id": "ceabdc97-fa92-4b85-853e-ee7f60e4362e",
   "metadata": {},
   "outputs": [],
   "source": []
  },
  {
   "cell_type": "code",
   "execution_count": null,
   "id": "d19d581a-ae5e-45c0-a4b6-eee030784ca5",
   "metadata": {},
   "outputs": [],
   "source": []
  }
 ],
 "metadata": {
  "kernelspec": {
   "display_name": "Python 3 (ipykernel)",
   "language": "python",
   "name": "python3"
  },
  "language_info": {
   "codemirror_mode": {
    "name": "ipython",
    "version": 3
   },
   "file_extension": ".py",
   "mimetype": "text/x-python",
   "name": "python",
   "nbconvert_exporter": "python",
   "pygments_lexer": "ipython3",
   "version": "3.10.8"
  }
 },
 "nbformat": 4,
 "nbformat_minor": 5
}
